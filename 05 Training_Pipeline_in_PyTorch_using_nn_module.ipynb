{
  "nbformat": 4,
  "nbformat_minor": 0,
  "metadata": {
    "colab": {
      "provenance": [],
      "collapsed_sections": [
        "H1KuBhHUtp_7",
        "LrCOql6utmSS",
        "2kVpH75yvz4a",
        "oGEY-yNxwjXF",
        "zXNpzdCfwmtB",
        "vDMuMi_Uw13p",
        "eTMrOMmqw_pj",
        "zD6CY68YxFIi",
        "so8zP23rz9n7"
      ]
    },
    "kernelspec": {
      "name": "python3",
      "display_name": "Python 3"
    },
    "language_info": {
      "name": "python"
    }
  },
  "cells": [
    {
      "cell_type": "markdown",
      "source": [
        "#### **The NN Module**\n",
        "The torch.nn module in PyTorch is a core library that provides a wide array of classes and functions designed to help developers build neural networks efficently and effectively. It abstracts the complexity of creating and training neural networks by offering pre-build layers, loss functions, activation functions and other utilities, enabling you to focus on designing and experimenting with model architectures\n",
        "\n",
        "# Key Components of torch.nn :\n",
        "\n",
        "1. Modules (Layers) :\n",
        "  - nn.Module: The base class for all neural netword modules. Your custom models and layers should subclass this class.\n",
        "  - Common Layers : Includes layers like nn.Linear (fully connected layers), nn.Conv2d (convolutional layer), nn.LSTM (recurrent layer), and many more.\n",
        "\n",
        "2. Activation Functions :\n",
        " - Functions like nn.RelU, nn.Sigmoid, nn.Tanh introduce non-linearities to the model, allowing it to learn complex patterns\n",
        "\n",
        "3. Loss Functions :\n",
        "  - Provides loss functions such as nn.CrossEntropyLoss, nn.MSELoss and nn.NLLLoss to quantify the difference between the model's prediction and the actual targets\n",
        "\n",
        "4. Contianer Modules :\n",
        "  - nn.Sequentail : A sequential container to stack layers in order.\n",
        "\n",
        "5. Regularization and Dropout :     \n",
        "  - Layers like nn.Dropout and nn.BatchNorm2d help prevent overfitting and improve the model's ability to generalize to new data."
      ],
      "metadata": {
        "id": "iyp5Dv6popSi"
      }
    },
    {
      "cell_type": "markdown",
      "source": [
        "#### Creating a simple model with 1 perceptron"
      ],
      "metadata": {
        "id": "H1KuBhHUtp_7"
      }
    },
    {
      "cell_type": "code",
      "execution_count": 6,
      "metadata": {
        "id": "JuM7Bxgsodbt"
      },
      "outputs": [],
      "source": [
        "# Creating the model\n",
        "import torch\n",
        "import torch.nn as nn\n",
        "\n",
        "class Model(nn.Module):\n",
        "  def __init__(self, num_features):\n",
        "    super().__init__()\n",
        "    self.linear = nn.Linear(num_features, 1)\n",
        "    self.sigmoid = nn.Sigmoid()\n",
        "\n",
        "    # Forward Pass\n",
        "  def forward(self, features):\n",
        "    out = self.linear(features)\n",
        "    out = self.sigmoid(out)\n",
        "\n",
        "    return out\n"
      ]
    },
    {
      "cell_type": "code",
      "source": [
        "# Creating Dataset\n",
        "features = torch.rand(10, 5)\n",
        "\n",
        "# Create model\n",
        "model = Model(features.shape[1])\n",
        "\n",
        "# Call model for forward pass\n",
        "model(features)"
      ],
      "metadata": {
        "colab": {
          "base_uri": "https://localhost:8080/"
        },
        "id": "HXyDTxcgsbVY",
        "outputId": "26000f8d-5db4-4c92-b95e-c88788c20cf7"
      },
      "execution_count": 7,
      "outputs": [
        {
          "output_type": "execute_result",
          "data": {
            "text/plain": [
              "tensor([[0.6199],\n",
              "        [0.5761],\n",
              "        [0.6846],\n",
              "        [0.5583],\n",
              "        [0.6806],\n",
              "        [0.5842],\n",
              "        [0.5914],\n",
              "        [0.5590],\n",
              "        [0.6063],\n",
              "        [0.6324]], grad_fn=<SigmoidBackward0>)"
            ]
          },
          "metadata": {},
          "execution_count": 7
        }
      ]
    },
    {
      "cell_type": "code",
      "source": [
        "# show model weights\n",
        "model.linear.weight"
      ],
      "metadata": {
        "colab": {
          "base_uri": "https://localhost:8080/"
        },
        "id": "7PZMC-nGsyHt",
        "outputId": "efa82f4c-b18b-4171-a6d3-9ed025813047"
      },
      "execution_count": 8,
      "outputs": [
        {
          "output_type": "execute_result",
          "data": {
            "text/plain": [
              "Parameter containing:\n",
              "tensor([[ 0.1116,  0.3117,  0.4396, -0.1351, -0.0379]], requires_grad=True)"
            ]
          },
          "metadata": {},
          "execution_count": 8
        }
      ]
    },
    {
      "cell_type": "code",
      "source": [
        "# bises\n",
        "model.linear.bias"
      ],
      "metadata": {
        "colab": {
          "base_uri": "https://localhost:8080/"
        },
        "id": "idTm_PRetK8M",
        "outputId": "888143b8-be98-42eb-f2d9-213aaf60be06"
      },
      "execution_count": 11,
      "outputs": [
        {
          "output_type": "execute_result",
          "data": {
            "text/plain": [
              "Parameter containing:\n",
              "tensor([0.0395], requires_grad=True)"
            ]
          },
          "metadata": {},
          "execution_count": 11
        }
      ]
    },
    {
      "cell_type": "code",
      "source": [
        "!pip install torchinfo"
      ],
      "metadata": {
        "colab": {
          "base_uri": "https://localhost:8080/"
        },
        "id": "scqMtsDstPCS",
        "outputId": "c05d8a53-0f30-4d57-b3a1-84a9adcdd0c2"
      },
      "execution_count": 12,
      "outputs": [
        {
          "output_type": "stream",
          "name": "stdout",
          "text": [
            "Collecting torchinfo\n",
            "  Downloading torchinfo-1.8.0-py3-none-any.whl.metadata (21 kB)\n",
            "Downloading torchinfo-1.8.0-py3-none-any.whl (23 kB)\n",
            "Installing collected packages: torchinfo\n",
            "Successfully installed torchinfo-1.8.0\n"
          ]
        }
      ]
    },
    {
      "cell_type": "code",
      "source": [
        "from torchinfo import summary\n",
        "\n",
        "summary(model, input_size=(10, 5))"
      ],
      "metadata": {
        "colab": {
          "base_uri": "https://localhost:8080/"
        },
        "id": "jnP2amW7tWqs",
        "outputId": "d027a83a-ff38-4c11-f12f-5062a9676597"
      },
      "execution_count": 13,
      "outputs": [
        {
          "output_type": "execute_result",
          "data": {
            "text/plain": [
              "==========================================================================================\n",
              "Layer (type:depth-idx)                   Output Shape              Param #\n",
              "==========================================================================================\n",
              "Model                                    [10, 1]                   --\n",
              "├─Linear: 1-1                            [10, 1]                   6\n",
              "├─Sigmoid: 1-2                           [10, 1]                   --\n",
              "==========================================================================================\n",
              "Total params: 6\n",
              "Trainable params: 6\n",
              "Non-trainable params: 0\n",
              "Total mult-adds (Units.MEGABYTES): 0.00\n",
              "==========================================================================================\n",
              "Input size (MB): 0.00\n",
              "Forward/backward pass size (MB): 0.00\n",
              "Params size (MB): 0.00\n",
              "Estimated Total Size (MB): 0.00\n",
              "=========================================================================================="
            ]
          },
          "metadata": {},
          "execution_count": 13
        }
      ]
    },
    {
      "cell_type": "markdown",
      "source": [
        "#### Creating a Model with hidden layers"
      ],
      "metadata": {
        "id": "LrCOql6utmSS"
      }
    },
    {
      "cell_type": "code",
      "source": [
        "import torch\n",
        "import torch.nn as nn\n",
        "\n",
        "# Defining the Model\n",
        "\n",
        "class Model(nn.Module):\n",
        "  def __init__(self, num_features):\n",
        "    super().__init__()\n",
        "    self.linear1 = nn.Linear(num_features, 3)\n",
        "    self.relu = nn.ReLU()\n",
        "    self.linear2 = nn.Linear(3, 1)\n",
        "    self.sigmoid = nn.Sigmoid()\n",
        "\n",
        "  def forward(self, features):\n",
        "    out = self.linear1(features)\n",
        "    out = self.relu(out)\n",
        "    out = self.linear2(out)\n",
        "    out = self.sigmoid(out)\n",
        "    return out"
      ],
      "metadata": {
        "id": "WphKGVyxtcaf"
      },
      "execution_count": 22,
      "outputs": []
    },
    {
      "cell_type": "code",
      "source": [
        "# Creating the Dataset\n",
        "features = torch.rand(10,5)\n",
        "\n",
        "# Creating the Model\n",
        "model = Model(features.shape[1])\n",
        "\n",
        "# Call model for forward pass\n",
        "model(features)"
      ],
      "metadata": {
        "colab": {
          "base_uri": "https://localhost:8080/"
        },
        "id": "io63_LhPukWL",
        "outputId": "2bdf8487-5a27-4c7f-b3db-d84ea85bf715"
      },
      "execution_count": 23,
      "outputs": [
        {
          "output_type": "execute_result",
          "data": {
            "text/plain": [
              "tensor([[0.6880],\n",
              "        [0.6956],\n",
              "        [0.6732],\n",
              "        [0.7021],\n",
              "        [0.7210],\n",
              "        [0.7056],\n",
              "        [0.6976],\n",
              "        [0.6796],\n",
              "        [0.7106],\n",
              "        [0.7044]], grad_fn=<SigmoidBackward0>)"
            ]
          },
          "metadata": {},
          "execution_count": 23
        }
      ]
    },
    {
      "cell_type": "code",
      "source": [
        "model.linear1.weight"
      ],
      "metadata": {
        "colab": {
          "base_uri": "https://localhost:8080/"
        },
        "id": "M67aYR00u9KO",
        "outputId": "47e9e4a7-c6dc-46ae-9c5f-93540572cb5c"
      },
      "execution_count": 24,
      "outputs": [
        {
          "output_type": "execute_result",
          "data": {
            "text/plain": [
              "Parameter containing:\n",
              "tensor([[ 0.2507,  0.0648,  0.1973, -0.0064,  0.0322],\n",
              "        [ 0.3956,  0.1902, -0.0590,  0.1214,  0.2612],\n",
              "        [ 0.3122, -0.1554, -0.0668,  0.2562,  0.3379]], requires_grad=True)"
            ]
          },
          "metadata": {},
          "execution_count": 24
        }
      ]
    },
    {
      "cell_type": "code",
      "source": [
        "model.linear2.weight"
      ],
      "metadata": {
        "colab": {
          "base_uri": "https://localhost:8080/"
        },
        "id": "l5TX1qcgvTGn",
        "outputId": "a520ed32-f43b-43a6-8b0c-364782a654fd"
      },
      "execution_count": 25,
      "outputs": [
        {
          "output_type": "execute_result",
          "data": {
            "text/plain": [
              "Parameter containing:\n",
              "tensor([[0.4146, 0.0334, 0.3849]], requires_grad=True)"
            ]
          },
          "metadata": {},
          "execution_count": 25
        }
      ]
    },
    {
      "cell_type": "code",
      "source": [
        "model.linear1.bias"
      ],
      "metadata": {
        "colab": {
          "base_uri": "https://localhost:8080/"
        },
        "id": "j3bB5G1mvU9g",
        "outputId": "48eb12a9-4bba-467c-de34-32b8e22ee486"
      },
      "execution_count": 27,
      "outputs": [
        {
          "output_type": "execute_result",
          "data": {
            "text/plain": [
              "Parameter containing:\n",
              "tensor([-0.1210,  0.1035,  0.3551], requires_grad=True)"
            ]
          },
          "metadata": {},
          "execution_count": 27
        }
      ]
    },
    {
      "cell_type": "code",
      "source": [
        "model.linear2.bias"
      ],
      "metadata": {
        "colab": {
          "base_uri": "https://localhost:8080/"
        },
        "id": "1M7PcCZfvWuB",
        "outputId": "9bc8fa75-f2b9-40ab-e1f7-a1ff302abd7a"
      },
      "execution_count": 28,
      "outputs": [
        {
          "output_type": "execute_result",
          "data": {
            "text/plain": [
              "Parameter containing:\n",
              "tensor([0.4602], requires_grad=True)"
            ]
          },
          "metadata": {},
          "execution_count": 28
        }
      ]
    },
    {
      "cell_type": "code",
      "source": [
        "summary(model, input_size=(10, 5))"
      ],
      "metadata": {
        "colab": {
          "base_uri": "https://localhost:8080/"
        },
        "id": "hhVjQxz0vZqi",
        "outputId": "8de3b98e-785e-4c63-d42d-5f28ac07c960"
      },
      "execution_count": 29,
      "outputs": [
        {
          "output_type": "execute_result",
          "data": {
            "text/plain": [
              "==========================================================================================\n",
              "Layer (type:depth-idx)                   Output Shape              Param #\n",
              "==========================================================================================\n",
              "Model                                    [10, 1]                   --\n",
              "├─Linear: 1-1                            [10, 3]                   18\n",
              "├─ReLU: 1-2                              [10, 3]                   --\n",
              "├─Linear: 1-3                            [10, 1]                   4\n",
              "├─Sigmoid: 1-4                           [10, 1]                   --\n",
              "==========================================================================================\n",
              "Total params: 22\n",
              "Trainable params: 22\n",
              "Non-trainable params: 0\n",
              "Total mult-adds (Units.MEGABYTES): 0.00\n",
              "==========================================================================================\n",
              "Input size (MB): 0.00\n",
              "Forward/backward pass size (MB): 0.00\n",
              "Params size (MB): 0.00\n",
              "Estimated Total Size (MB): 0.00\n",
              "=========================================================================================="
            ]
          },
          "metadata": {},
          "execution_count": 29
        }
      ]
    },
    {
      "cell_type": "markdown",
      "source": [
        "#### Defining model using Sequential Containers"
      ],
      "metadata": {
        "id": "2kVpH75yvz4a"
      }
    },
    {
      "cell_type": "code",
      "source": [
        "import torch\n",
        "import torch.nn as nn\n",
        "\n",
        "# Defining the Model\n",
        "\n",
        "class Model(nn.Module):\n",
        "  def __init__(self, num_features):\n",
        "    super().__init__()\n",
        "    self.network = nn.Sequential(\n",
        "        nn.Linear(num_features, 3),\n",
        "        nn.ReLU(),\n",
        "        nn.Linear(3, 1),\n",
        "        nn.Sigmoid()\n",
        "    )\n",
        "\n",
        "  def forward(self, features):\n",
        "    out = self.network(features)\n",
        "    return out"
      ],
      "metadata": {
        "id": "KEBPKyhxvoIj"
      },
      "execution_count": 30,
      "outputs": []
    },
    {
      "cell_type": "code",
      "source": [
        "# Creating the Dataset\n",
        "features = torch.rand(10,5)\n",
        "\n",
        "# Creating the Model\n",
        "model = Model(features.shape[1])\n",
        "\n",
        "# Call model for forward pass\n",
        "model(features)"
      ],
      "metadata": {
        "colab": {
          "base_uri": "https://localhost:8080/"
        },
        "id": "BH9owbXiwMgJ",
        "outputId": "1cd34901-4bc5-4bdb-81c2-0f3d31d9a2f0"
      },
      "execution_count": 31,
      "outputs": [
        {
          "output_type": "execute_result",
          "data": {
            "text/plain": [
              "tensor([[0.4445],\n",
              "        [0.4422],\n",
              "        [0.4188],\n",
              "        [0.4391],\n",
              "        [0.4344],\n",
              "        [0.4398],\n",
              "        [0.4277],\n",
              "        [0.4404],\n",
              "        [0.4284],\n",
              "        [0.4341]], grad_fn=<SigmoidBackward0>)"
            ]
          },
          "metadata": {},
          "execution_count": 31
        }
      ]
    },
    {
      "cell_type": "markdown",
      "source": [
        "#### Using nn.Module for Breast Cancer"
      ],
      "metadata": {
        "id": "ZVHHQr2rwT4N"
      }
    },
    {
      "cell_type": "markdown",
      "source": [
        "##### Imports"
      ],
      "metadata": {
        "id": "oGEY-yNxwjXF"
      }
    },
    {
      "cell_type": "code",
      "source": [
        "import numpy as np\n",
        "import pandas as pd\n",
        "import torch\n",
        "from sklearn.model_selection import train_test_split\n",
        "from sklearn.preprocessing import StandardScaler\n",
        "from sklearn.preprocessing import LabelEncoder"
      ],
      "metadata": {
        "id": "cmSihleqwQZT"
      },
      "execution_count": 41,
      "outputs": []
    },
    {
      "cell_type": "code",
      "source": [
        "df = pd.read_csv(\"https://raw.githubusercontent.com/gscdit/Breast-Cancer-Detection/refs/heads/master/data.csv\")"
      ],
      "metadata": {
        "id": "tLh9MB-wwnJ0"
      },
      "execution_count": 42,
      "outputs": []
    },
    {
      "cell_type": "markdown",
      "source": [
        "##### Dataset Preprocessing"
      ],
      "metadata": {
        "id": "zXNpzdCfwmtB"
      }
    },
    {
      "cell_type": "code",
      "source": [
        "df.head()\n",
        "df.drop(columns=[\"Unnamed: 32\",\"id\"],inplace=True)"
      ],
      "metadata": {
        "id": "ZLELHxlnwsXN"
      },
      "execution_count": 43,
      "outputs": []
    },
    {
      "cell_type": "markdown",
      "source": [
        "##### Splitting, Scaling and Encoding"
      ],
      "metadata": {
        "id": "vDMuMi_Uw13p"
      }
    },
    {
      "cell_type": "code",
      "source": [
        "X_train,X_test,y_train,y_test = train_test_split(df.iloc[:,1:],df.iloc[:,0],test_size=0.2,random_state=42)\n",
        "\n",
        "scaler = StandardScaler()\n",
        "X_train = scaler.fit_transform(X_train)\n",
        "X_test = scaler.transform(X_test)\n",
        "encoder = LabelEncoder()\n",
        "y_train = encoder.fit_transform(y_train)\n",
        "y_test = encoder.transform(y_test)"
      ],
      "metadata": {
        "id": "mZYenTrSwxhA"
      },
      "execution_count": 44,
      "outputs": []
    },
    {
      "cell_type": "markdown",
      "source": [
        "##### Converting into PyTorch Tensor"
      ],
      "metadata": {
        "id": "eTMrOMmqw_pj"
      }
    },
    {
      "cell_type": "code",
      "source": [
        "X_train_tensor = torch.tensor(X_train, dtype=torch.float32)\n",
        "X_test_tensor = torch.tensor(X_test, dtype=torch.float32)\n",
        "y_train_tensor = torch.tensor(y_train, dtype=torch.float32)\n",
        "y_test_tensor = torch.tensor(y_test, dtype=torch.float32)"
      ],
      "metadata": {
        "id": "Eh9HEaQpw7iy"
      },
      "execution_count": 61,
      "outputs": []
    },
    {
      "cell_type": "markdown",
      "source": [
        "##### Defining the Model"
      ],
      "metadata": {
        "id": "zD6CY68YxFIi"
      }
    },
    {
      "cell_type": "code",
      "source": [
        "class MySimpleNN(nn.Module):\n",
        "  def __init__(self, num_features):\n",
        "    super().__init__()\n",
        "    self.network = nn.Sequential(\n",
        "        nn.Linear(num_features, 1),\n",
        "        nn.Sigmoid()\n",
        "    )\n",
        "  def forward(self, features):\n",
        "    return self.network(features)\n",
        "\n",
        "  def loss_function(self, y_pred, y):\n",
        "    epsilon = 1e-7\n",
        "    y_pred = torch.clamp(y_pred, epsilon, 1 - epsilon)\n",
        "\n",
        "    loss = - (y * torch.log(y_pred) + (1-y) * torch.log(1 - y_pred)).mean()\n",
        "    return loss"
      ],
      "metadata": {
        "id": "TwgcvrhoxGpb"
      },
      "execution_count": 62,
      "outputs": []
    },
    {
      "cell_type": "code",
      "source": [
        "learning_rate = 0.1\n",
        "epochs = 25"
      ],
      "metadata": {
        "id": "I7GO6H4jx0KN"
      },
      "execution_count": 63,
      "outputs": []
    },
    {
      "cell_type": "code",
      "source": [
        "model = MySimpleNN(X_train_tensor.shape[1])\n",
        "\n",
        "for epoch in range(epochs):\n",
        "  y_pred = model(X_train_tensor)\n",
        "  loss = model.loss_function(y_pred, y_train_tensor)\n",
        "  loss.backward()\n",
        "\n",
        "  with torch.no_grad():\n",
        "    model.network[0].weight -= learning_rate * model.network[0].weight.grad\n",
        "    model.network[0].bias -= learning_rate * model.network[0].bias.grad\n",
        "\n",
        "    model.network[0].weight.grad.zero_()\n",
        "    model.network[0].bias.grad.zero_()\n",
        "\n",
        "    print(f\"Epoch {epoch + 1}, Loss: {loss.item()}\")"
      ],
      "metadata": {
        "colab": {
          "base_uri": "https://localhost:8080/"
        },
        "id": "jUjzB91GyBRL",
        "outputId": "0c2505b3-e844-4e01-9f50-f7fa8d1c612e"
      },
      "execution_count": 68,
      "outputs": [
        {
          "output_type": "stream",
          "name": "stdout",
          "text": [
            "Epoch 1, Loss: 0.7343925833702087\n",
            "Epoch 2, Loss: 0.7121169567108154\n",
            "Epoch 3, Loss: 0.6985650062561035\n",
            "Epoch 4, Loss: 0.690415620803833\n",
            "Epoch 5, Loss: 0.685405433177948\n",
            "Epoch 6, Loss: 0.6821612119674683\n",
            "Epoch 7, Loss: 0.6799104809761047\n",
            "Epoch 8, Loss: 0.6782352924346924\n",
            "Epoch 9, Loss: 0.6769103407859802\n",
            "Epoch 10, Loss: 0.6758124232292175\n",
            "Epoch 11, Loss: 0.6748707890510559\n",
            "Epoch 12, Loss: 0.6740435361862183\n",
            "Epoch 13, Loss: 0.6733037829399109\n",
            "Epoch 14, Loss: 0.6726335287094116\n",
            "Epoch 15, Loss: 0.6720203161239624\n",
            "Epoch 16, Loss: 0.671454906463623\n",
            "Epoch 17, Loss: 0.6709303855895996\n",
            "Epoch 18, Loss: 0.6704415082931519\n",
            "Epoch 19, Loss: 0.6699838638305664\n",
            "Epoch 20, Loss: 0.6695542335510254\n",
            "Epoch 21, Loss: 0.6691496968269348\n",
            "Epoch 22, Loss: 0.6687681078910828\n",
            "Epoch 23, Loss: 0.6684073209762573\n",
            "Epoch 24, Loss: 0.6680659055709839\n",
            "Epoch 25, Loss: 0.6677421927452087\n"
          ]
        }
      ]
    },
    {
      "cell_type": "code",
      "source": [
        "# Model Evaluation\n",
        "with torch.no_grad():\n",
        "  y_pred = model.forward(X_test_tensor)\n",
        "  y_pred = (y_pred > 0.5).float()\n",
        "  accuracy = (y_pred == y_test_tensor).float().mean()\n",
        "  print(f\"Accuracy: {accuracy.item()}\")"
      ],
      "metadata": {
        "colab": {
          "base_uri": "https://localhost:8080/"
        },
        "id": "t-1mBfi1yGY5",
        "outputId": "aeaa4bda-d058-4e45-aae0-4242dea5f34a"
      },
      "execution_count": 69,
      "outputs": [
        {
          "output_type": "stream",
          "name": "stdout",
          "text": [
            "Accuracy: 0.6184980273246765\n"
          ]
        }
      ]
    },
    {
      "cell_type": "markdown",
      "source": [
        "##### Using Built-in Loss function and Optimizer"
      ],
      "metadata": {
        "id": "so8zP23rz9n7"
      }
    },
    {
      "cell_type": "markdown",
      "source": [
        "**The torch.optim module**\n",
        "\n",
        "***torch.optim*** is a module in PyTorch that provides a variety of optimization algorithms used to update the parameters of your model during training\n",
        "\n",
        "It includes common optimizers like Dtochastic Gradient Descent(SGD), Adam, RMSprop and more.\n",
        "\n",
        "It handles weight updates efficiently, including additional features like learning rate scheduling and weight decay (regularization).\n",
        "\n",
        "The **model.parameters()** method in PyTorch retrieves an **iterator over all the trainable parameters (weights and bias)**  in a model. These parameters are instances of torch.nn.Parameter and include :     \n",
        "- Weights : The weight metrices of layers like nn.Linear, nn.Conv2d, etc\n",
        "- Biases : The bias term of layers (if they exist)\n",
        "\n",
        "The optimizer uses these parameters to compute gradients and update them during training"
      ],
      "metadata": {
        "id": "weN-7OWm02xC"
      }
    },
    {
      "cell_type": "code",
      "source": [
        "loss_function = nn.BCELoss()"
      ],
      "metadata": {
        "id": "f6dJDOQr0OnR"
      },
      "execution_count": 70,
      "outputs": []
    },
    {
      "cell_type": "code",
      "source": [
        "model = MySimpleNN(X_train_tensor.shape[1])\n",
        "\n",
        "optimizer = torch.optim.SGD(model.parameters(), lr=learning_rate)\n",
        "\n",
        "for epoch in range(epochs):\n",
        "  y_pred = model(X_train_tensor)\n",
        "  loss = loss_function(y_pred, y_train_tensor.view(-1, 1)) # View is similar to reshape but more efficient for continuous data\n",
        "\n",
        "  optimizer.zero_grad()\n",
        "\n",
        "  loss.backward()\n",
        "\n",
        "  optimizer.step()\n",
        "\n",
        "  print(f\"Epoch {epoch + 1}, Loss: {loss.item()}\")"
      ],
      "metadata": {
        "colab": {
          "base_uri": "https://localhost:8080/"
        },
        "id": "Ml00myYqz2Ds",
        "outputId": "c50ee99b-757c-4299-e702-b56016b9f8a2"
      },
      "execution_count": 74,
      "outputs": [
        {
          "output_type": "stream",
          "name": "stdout",
          "text": [
            "Epoch 1, Loss: 0.6816350817680359\n",
            "Epoch 2, Loss: 0.5194056630134583\n",
            "Epoch 3, Loss: 0.43324726819992065\n",
            "Epoch 4, Loss: 0.38031938672065735\n",
            "Epoch 5, Loss: 0.34405866265296936\n",
            "Epoch 6, Loss: 0.31734389066696167\n",
            "Epoch 7, Loss: 0.2966401278972626\n",
            "Epoch 8, Loss: 0.27999168634414673\n",
            "Epoch 9, Loss: 0.2662251889705658\n",
            "Epoch 10, Loss: 0.2545914053916931\n",
            "Epoch 11, Loss: 0.24458767473697662\n",
            "Epoch 12, Loss: 0.23586316406726837\n",
            "Epoch 13, Loss: 0.22816474735736847\n",
            "Epoch 14, Loss: 0.22130464017391205\n",
            "Epoch 15, Loss: 0.2151402086019516\n",
            "Epoch 16, Loss: 0.20956094563007355\n",
            "Epoch 17, Loss: 0.20447967946529388\n",
            "Epoch 18, Loss: 0.19982647895812988\n",
            "Epoch 19, Loss: 0.19554461538791656\n",
            "Epoch 20, Loss: 0.1915873885154724\n",
            "Epoch 21, Loss: 0.18791599571704865\n",
            "Epoch 22, Loss: 0.1844978928565979\n",
            "Epoch 23, Loss: 0.1813054382801056\n",
            "Epoch 24, Loss: 0.1783151626586914\n",
            "Epoch 25, Loss: 0.17550675570964813\n"
          ]
        }
      ]
    },
    {
      "cell_type": "code",
      "source": [
        "# Model Evaluation\n",
        "with torch.no_grad():\n",
        "  y_pred = model.forward(X_test_tensor)\n",
        "  y_pred = (y_pred > 0.5).float()\n",
        "  accuracy = (y_pred == y_test_tensor).float().mean()\n",
        "  print(f\"Accuracy: {accuracy.item()}\")"
      ],
      "metadata": {
        "colab": {
          "base_uri": "https://localhost:8080/"
        },
        "id": "cTAqphbT0gRz",
        "outputId": "aa7a5f60-3e96-4f93-ec61-779c7132d1d2"
      },
      "execution_count": 73,
      "outputs": [
        {
          "output_type": "stream",
          "name": "stdout",
          "text": [
            "Accuracy: 0.5301631093025208\n"
          ]
        }
      ]
    }
  ]
}