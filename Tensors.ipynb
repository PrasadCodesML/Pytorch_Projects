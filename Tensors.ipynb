{
  "nbformat": 4,
  "nbformat_minor": 0,
  "metadata": {
    "colab": {
      "provenance": [],
      "collapsed_sections": [
        "nZQ0YnsFXdzq",
        "p_XMw108Y_qq",
        "TgUz-upCZ3E0",
        "1e4KdJRBbEgX",
        "vM6qJI8fbLe-",
        "fXUwkVo8buMQ",
        "Hh_mN7dWcrQK",
        "tseMjwr_eNUW",
        "bKUJViy6gPPR",
        "PfZCvI52g1-P",
        "5D6Thk0mhjgU",
        "6UWes70giWt9",
        "P57MYMPIi4zT",
        "YH6ipEEhkn3m",
        "6hNFTQxxle3U",
        "eguitICFm-Ho"
      ],
      "gpuType": "T4"
    },
    "kernelspec": {
      "name": "python3",
      "display_name": "Python 3"
    },
    "language_info": {
      "name": "python"
    },
    "accelerator": "GPU"
  },
  "cells": [
    {
      "cell_type": "code",
      "execution_count": 5,
      "metadata": {
        "colab": {
          "base_uri": "https://localhost:8080/"
        },
        "id": "D8cvgtslXC34",
        "outputId": "400c2f3f-eea0-45a6-d6a7-55e43fa10444"
      },
      "outputs": [
        {
          "output_type": "stream",
          "name": "stdout",
          "text": [
            "2.5.1+cu124\n"
          ]
        }
      ],
      "source": [
        "import torch\n",
        "print(torch.__version__)"
      ]
    },
    {
      "cell_type": "code",
      "source": [
        "if torch.cuda.is_available():\n",
        "    print(\"CUDA is available\")\n",
        "    print(\"Number of CUDA devices:\", torch.cuda.device_count())\n",
        "    print(\"Device name:\", torch.cuda.get_device_name(0))\n",
        "else:\n",
        "    print(\"CUDA is not available\")"
      ],
      "metadata": {
        "colab": {
          "base_uri": "https://localhost:8080/"
        },
        "id": "Wzv9B9KJXJMq",
        "outputId": "8e2df0c1-8194-45b1-c3aa-9d900ce32120"
      },
      "execution_count": 6,
      "outputs": [
        {
          "output_type": "stream",
          "name": "stdout",
          "text": [
            "CUDA is available\n",
            "Number of CUDA devices: 1\n",
            "Device name: Tesla T4\n"
          ]
        }
      ]
    },
    {
      "cell_type": "markdown",
      "source": [
        "### Creating a Tensor"
      ],
      "metadata": {
        "id": "nZQ0YnsFXdzq"
      }
    },
    {
      "cell_type": "code",
      "source": [
        "# using empty\n",
        "a = torch.empty(2, 3)\n",
        "# Does not assign values shows the values already existing in that memory space"
      ],
      "metadata": {
        "id": "iEjVSI5DXPFT"
      },
      "execution_count": 6,
      "outputs": []
    },
    {
      "cell_type": "code",
      "source": [
        "# check type\n",
        "type(a)"
      ],
      "metadata": {
        "colab": {
          "base_uri": "https://localhost:8080/"
        },
        "id": "WT890EUCXnn1",
        "outputId": "d3d58c37-6bdd-4570-e921-76d71dd41f79"
      },
      "execution_count": 8,
      "outputs": [
        {
          "output_type": "execute_result",
          "data": {
            "text/plain": [
              "torch.Tensor"
            ]
          },
          "metadata": {},
          "execution_count": 8
        }
      ]
    },
    {
      "cell_type": "code",
      "source": [
        "# using zeros\n",
        "torch.zeros(2, 3)"
      ],
      "metadata": {
        "colab": {
          "base_uri": "https://localhost:8080/"
        },
        "id": "lzBg2d1dX7Qj",
        "outputId": "5f76c72b-0493-452a-9076-4bc3256a0531"
      },
      "execution_count": 10,
      "outputs": [
        {
          "output_type": "execute_result",
          "data": {
            "text/plain": [
              "tensor([[0., 0., 0.],\n",
              "        [0., 0., 0.]])"
            ]
          },
          "metadata": {},
          "execution_count": 10
        }
      ]
    },
    {
      "cell_type": "code",
      "source": [
        "# using ones\n",
        "torch.ones(2, 3)"
      ],
      "metadata": {
        "colab": {
          "base_uri": "https://localhost:8080/"
        },
        "id": "7WtWwagJYBFj",
        "outputId": "9c2e89ab-3c70-4941-c570-72d7a8904a3f"
      },
      "execution_count": 11,
      "outputs": [
        {
          "output_type": "execute_result",
          "data": {
            "text/plain": [
              "tensor([[1., 1., 1.],\n",
              "        [1., 1., 1.]])"
            ]
          },
          "metadata": {},
          "execution_count": 11
        }
      ]
    },
    {
      "cell_type": "code",
      "source": [
        "# using rand\n",
        "torch.rand(2, 3)"
      ],
      "metadata": {
        "colab": {
          "base_uri": "https://localhost:8080/"
        },
        "id": "AdayxnjzYFHN",
        "outputId": "7510538e-0052-456d-b50a-a4ea8c1121cb"
      },
      "execution_count": 12,
      "outputs": [
        {
          "output_type": "execute_result",
          "data": {
            "text/plain": [
              "tensor([[0.7072, 0.2618, 0.8588],\n",
              "        [0.5660, 0.1724, 0.1038]])"
            ]
          },
          "metadata": {},
          "execution_count": 12
        }
      ]
    },
    {
      "cell_type": "code",
      "source": [
        "# manual seed\n",
        "torch.manual_seed(42)\n",
        "torch.rand(2, 3)"
      ],
      "metadata": {
        "colab": {
          "base_uri": "https://localhost:8080/"
        },
        "id": "E3h8EDhdYJgJ",
        "outputId": "edf8e820-7ad3-4eee-e0e6-d01d25da0a39"
      },
      "execution_count": 13,
      "outputs": [
        {
          "output_type": "execute_result",
          "data": {
            "text/plain": [
              "tensor([[0.8823, 0.9150, 0.3829],\n",
              "        [0.9593, 0.3904, 0.6009]])"
            ]
          },
          "metadata": {},
          "execution_count": 13
        }
      ]
    },
    {
      "cell_type": "code",
      "source": [
        "# using tensor\n",
        "torch.tensor([[1, 2, 3], [4, 5, 6]])"
      ],
      "metadata": {
        "colab": {
          "base_uri": "https://localhost:8080/"
        },
        "id": "16XTXtbfYMel",
        "outputId": "082eafca-db97-4eaa-fa7f-50cab926d552"
      },
      "execution_count": 14,
      "outputs": [
        {
          "output_type": "execute_result",
          "data": {
            "text/plain": [
              "tensor([[1, 2, 3],\n",
              "        [4, 5, 6]])"
            ]
          },
          "metadata": {},
          "execution_count": 14
        }
      ]
    },
    {
      "cell_type": "code",
      "source": [
        "# Other ways\n",
        "\n",
        "# using arange\n",
        "print(\"Using arange -> \", torch.arange(0, 10, 2))\n",
        "\n",
        "# using linspace (Linearly spaced)\n",
        "print(\"Using linspace -> \", torch.linspace(0, 10, 10))\n",
        "\n",
        "# using eye (Identity matrix)\n",
        "print(\"Using eye -> \", torch.eye(5))\n",
        "\n",
        "# using full\n",
        "print(\"Using full -> \", torch.full((3, 3), 5))"
      ],
      "metadata": {
        "colab": {
          "base_uri": "https://localhost:8080/"
        },
        "id": "v724q-V5YVA3",
        "outputId": "97f5d2a3-cdc1-4d25-eaa8-d94b2b92807e"
      },
      "execution_count": 15,
      "outputs": [
        {
          "output_type": "stream",
          "name": "stdout",
          "text": [
            "Using arange ->  tensor([0, 2, 4, 6, 8])\n",
            "Using linspace ->  tensor([ 0.0000,  1.1111,  2.2222,  3.3333,  4.4444,  5.5556,  6.6667,  7.7778,\n",
            "         8.8889, 10.0000])\n",
            "Using eye ->  tensor([[1., 0., 0., 0., 0.],\n",
            "        [0., 1., 0., 0., 0.],\n",
            "        [0., 0., 1., 0., 0.],\n",
            "        [0., 0., 0., 1., 0.],\n",
            "        [0., 0., 0., 0., 1.]])\n",
            "Using full ->  tensor([[5, 5, 5],\n",
            "        [5, 5, 5],\n",
            "        [5, 5, 5]])\n"
          ]
        }
      ]
    },
    {
      "cell_type": "markdown",
      "source": [
        "### Tensor Shape"
      ],
      "metadata": {
        "id": "p_XMw108Y_qq"
      }
    },
    {
      "cell_type": "code",
      "source": [
        "x = torch.tensor([[1, 2, 3], [4, 5, 6]])\n",
        "x"
      ],
      "metadata": {
        "colab": {
          "base_uri": "https://localhost:8080/"
        },
        "id": "ClPhMKoDYz4v",
        "outputId": "d7a1431e-e3ec-4d7c-f908-267e62ff928c"
      },
      "execution_count": 18,
      "outputs": [
        {
          "output_type": "execute_result",
          "data": {
            "text/plain": [
              "tensor([[1, 2, 3],\n",
              "        [4, 5, 6]])"
            ]
          },
          "metadata": {},
          "execution_count": 18
        }
      ]
    },
    {
      "cell_type": "code",
      "source": [
        "x.shape"
      ],
      "metadata": {
        "colab": {
          "base_uri": "https://localhost:8080/"
        },
        "id": "gjaLcRbNZHKU",
        "outputId": "ae4191b4-fb09-4779-fd97-489ca04b3a77"
      },
      "execution_count": 19,
      "outputs": [
        {
          "output_type": "execute_result",
          "data": {
            "text/plain": [
              "torch.Size([2, 3])"
            ]
          },
          "metadata": {},
          "execution_count": 19
        }
      ]
    },
    {
      "cell_type": "code",
      "source": [
        "# If you want to create tensors of simailar shape of a tensor then use empty_like, zeros_like, ones_like\n",
        "torch.empty_like(x)"
      ],
      "metadata": {
        "colab": {
          "base_uri": "https://localhost:8080/"
        },
        "id": "-BwiLvzdZMD1",
        "outputId": "7a3d3f08-cc88-4c43-e289-0e214d658eab"
      },
      "execution_count": 20,
      "outputs": [
        {
          "output_type": "execute_result",
          "data": {
            "text/plain": [
              "tensor([[0, 0, 0],\n",
              "        [0, 1, 0]])"
            ]
          },
          "metadata": {},
          "execution_count": 20
        }
      ]
    },
    {
      "cell_type": "code",
      "source": [
        "torch.zeros_like(x)"
      ],
      "metadata": {
        "colab": {
          "base_uri": "https://localhost:8080/"
        },
        "id": "8AJSY78qZPfF",
        "outputId": "6b095cea-a6b9-41f0-f9ff-9c6726298ce5"
      },
      "execution_count": 21,
      "outputs": [
        {
          "output_type": "execute_result",
          "data": {
            "text/plain": [
              "tensor([[0, 0, 0],\n",
              "        [0, 0, 0]])"
            ]
          },
          "metadata": {},
          "execution_count": 21
        }
      ]
    },
    {
      "cell_type": "code",
      "source": [
        "torch.ones_like(x)"
      ],
      "metadata": {
        "colab": {
          "base_uri": "https://localhost:8080/"
        },
        "id": "VvDt6cC5ZTAZ",
        "outputId": "cb20e5c4-b7d0-4f28-97c5-50e4898e4cb6"
      },
      "execution_count": 22,
      "outputs": [
        {
          "output_type": "execute_result",
          "data": {
            "text/plain": [
              "tensor([[1, 1, 1],\n",
              "        [1, 1, 1]])"
            ]
          },
          "metadata": {},
          "execution_count": 22
        }
      ]
    },
    {
      "cell_type": "code",
      "source": [
        "# torch.rand_like(x) -> This will give an error because x has integers but rand_like will generate floats\n",
        "torch.rand_like(x, dtype=torch.float32)"
      ],
      "metadata": {
        "colab": {
          "base_uri": "https://localhost:8080/"
        },
        "id": "u-7adp4YZUNa",
        "outputId": "251ffc3e-8646-4c0a-917a-7fb6fa620a54"
      },
      "execution_count": 27,
      "outputs": [
        {
          "output_type": "execute_result",
          "data": {
            "text/plain": [
              "tensor([[0.2566, 0.7936, 0.9408],\n",
              "        [0.1332, 0.9346, 0.5936]])"
            ]
          },
          "metadata": {},
          "execution_count": 27
        }
      ]
    },
    {
      "cell_type": "markdown",
      "source": [
        "### Tensor datatypes"
      ],
      "metadata": {
        "id": "TgUz-upCZ3E0"
      }
    },
    {
      "cell_type": "code",
      "source": [
        "# find datatype\n",
        "x.dtype"
      ],
      "metadata": {
        "colab": {
          "base_uri": "https://localhost:8080/"
        },
        "id": "TWI-EHqgZ4Yj",
        "outputId": "ad728025-da05-49e4-969b-6af34dbeca25"
      },
      "execution_count": 23,
      "outputs": [
        {
          "output_type": "execute_result",
          "data": {
            "text/plain": [
              "torch.int64"
            ]
          },
          "metadata": {},
          "execution_count": 23
        }
      ]
    },
    {
      "cell_type": "code",
      "source": [
        "# assign data type\n",
        "torch.tensor([[1, 2, 3], [4, 5, 6]], dtype=torch.float32)"
      ],
      "metadata": {
        "colab": {
          "base_uri": "https://localhost:8080/"
        },
        "id": "xxSIQ2D4Z6jA",
        "outputId": "d4e9302e-c43d-4319-a5e7-f04efdfeb918"
      },
      "execution_count": 24,
      "outputs": [
        {
          "output_type": "execute_result",
          "data": {
            "text/plain": [
              "tensor([[1., 2., 3.],\n",
              "        [4., 5., 6.]])"
            ]
          },
          "metadata": {},
          "execution_count": 24
        }
      ]
    },
    {
      "cell_type": "code",
      "source": [
        "# using to()\n",
        "print(x)\n",
        "x.to(torch.float32)"
      ],
      "metadata": {
        "colab": {
          "base_uri": "https://localhost:8080/"
        },
        "id": "pY63DO-XZ-0Y",
        "outputId": "701c65ef-4102-4172-ee5c-ecbb3c70c2fd"
      },
      "execution_count": 26,
      "outputs": [
        {
          "output_type": "stream",
          "name": "stdout",
          "text": [
            "tensor([[1, 2, 3],\n",
            "        [4, 5, 6]])\n"
          ]
        },
        {
          "output_type": "execute_result",
          "data": {
            "text/plain": [
              "tensor([[1., 2., 3.],\n",
              "        [4., 5., 6.]])"
            ]
          },
          "metadata": {},
          "execution_count": 26
        }
      ]
    },
    {
      "cell_type": "markdown",
      "source": [
        "| **Data Type**             | **Dtype**         | **Description**                                                                                                                                                                |\n",
        "|---------------------------|-------------------|--------------------------------------------------------------------------------------------------------------------------------------------------------------------------------|\n",
        "| **32-bit Floating Point** | `torch.float32`   | Standard floating-point type used for most deep learning tasks. Provides a balance between precision and memory usage.                                                         |\n",
        "| **64-bit Floating Point** | `torch.float64`   | Double-precision floating point. Useful for high-precision numerical tasks but uses more memory.                                                                               |\n",
        "| **16-bit Floating Point** | `torch.float16`   | Half-precision floating point. Commonly used in mixed-precision training to reduce memory and computational overhead on modern GPUs.                                            |\n",
        "| **BFloat16**              | `torch.bfloat16`  | Brain floating-point format with reduced precision compared to `float16`. Used in mixed-precision training, especially on TPUs.                                                |\n",
        "| **8-bit Floating Point**  | `torch.float8`    | Ultra-low-precision floating point. Used for experimental applications and extreme memory-constrained environments (less common).                                               |\n",
        "| **8-bit Integer**         | `torch.int8`      | 8-bit signed integer. Used for quantized models to save memory and computation in inference.                                                                                   |\n",
        "| **16-bit Integer**        | `torch.int16`     | 16-bit signed integer. Useful for special numerical tasks requiring intermediate precision.                                                                                    |\n",
        "| **32-bit Integer**        | `torch.int32`     | Standard signed integer type. Commonly used for indexing and general-purpose numerical tasks.                                                                                  |\n",
        "| **64-bit Integer**        | `torch.int64`     | Long integer type. Often used for large indexing arrays or for tasks involving large numbers.                                                                                  |\n",
        "| **8-bit Unsigned Integer**| `torch.uint8`     | 8-bit unsigned integer. Commonly used for image data (e.g., pixel values between 0 and 255).                                                                                    |\n",
        "| **Boolean**               | `torch.bool`      | Boolean type, stores `True` or `False` values. Often used for masks in logical operations.                                                                                      |\n",
        "| **Complex 64**            | `torch.complex64` | Complex number type with 32-bit real and 32-bit imaginary parts. Used for scientific and signal processing tasks.                                                               |\n",
        "| **Complex 128**           | `torch.complex128`| Complex number type with 64-bit real and 64-bit imaginary parts. Offers higher precision but uses more memory.                                                                 |\n",
        "| **Quantized Integer**     | `torch.qint8`     | Quantized signed 8-bit integer. Used in quantized models for efficient inference.                                                                                              |\n",
        "| **Quantized Unsigned Integer** | `torch.quint8` | Quantized unsigned 8-bit integer. Often used for quantized tensors in image-related tasks.                                                                                     |\n"
      ],
      "metadata": {
        "id": "CUtqsXQdbBo7"
      }
    },
    {
      "cell_type": "markdown",
      "source": [
        "### Mathematical Operations on Tensors"
      ],
      "metadata": {
        "id": "1e4KdJRBbEgX"
      }
    },
    {
      "cell_type": "markdown",
      "source": [
        "#### 1. Scalar Operation"
      ],
      "metadata": {
        "id": "vM6qJI8fbLe-"
      }
    },
    {
      "cell_type": "code",
      "source": [
        "x = torch.rand(2, 2)\n",
        "x"
      ],
      "metadata": {
        "colab": {
          "base_uri": "https://localhost:8080/"
        },
        "id": "xBc4MFJjaH4d",
        "outputId": "4f8cecc5-f29a-43b0-d9a6-d14fe8022b74"
      },
      "execution_count": 28,
      "outputs": [
        {
          "output_type": "execute_result",
          "data": {
            "text/plain": [
              "tensor([[0.8694, 0.5677],\n",
              "        [0.7411, 0.4294]])"
            ]
          },
          "metadata": {},
          "execution_count": 28
        }
      ]
    },
    {
      "cell_type": "code",
      "source": [
        "# addition\n",
        "print(x + 2)\n",
        "\n",
        "# subtraction\n",
        "print(x - 2)\n",
        "\n",
        "# mutliplication\n",
        "print(x * 2)\n",
        "\n",
        "# division\n",
        "print(x / 2)\n",
        "\n",
        "# int division\n",
        "print((x * 100)//3)\n",
        "\n",
        "# mod\n",
        "print(x % 2)\n",
        "\n",
        "# exponentiation\n",
        "print(x ** 2)"
      ],
      "metadata": {
        "colab": {
          "base_uri": "https://localhost:8080/"
        },
        "id": "9MTjizbGbSid",
        "outputId": "1ff5c398-cfe0-40a6-8c26-0297d8d03078"
      },
      "execution_count": 29,
      "outputs": [
        {
          "output_type": "stream",
          "name": "stdout",
          "text": [
            "tensor([[2.8694, 2.5677],\n",
            "        [2.7411, 2.4294]])\n",
            "tensor([[-1.1306, -1.4323],\n",
            "        [-1.2589, -1.5706]])\n",
            "tensor([[1.7388, 1.1354],\n",
            "        [1.4822, 0.8588]])\n",
            "tensor([[0.4347, 0.2839],\n",
            "        [0.3705, 0.2147]])\n",
            "tensor([[28., 18.],\n",
            "        [24., 14.]])\n",
            "tensor([[0.8694, 0.5677],\n",
            "        [0.7411, 0.4294]])\n",
            "tensor([[0.7559, 0.3223],\n",
            "        [0.5492, 0.1844]])\n"
          ]
        }
      ]
    },
    {
      "cell_type": "markdown",
      "source": [
        "#### 2. Element Wise Operation"
      ],
      "metadata": {
        "id": "fXUwkVo8buMQ"
      }
    },
    {
      "cell_type": "code",
      "source": [
        "a = torch.rand(2, 3)\n",
        "b = torch.rand(2, 3)\n",
        "\n",
        "print(a)\n",
        "print(b)"
      ],
      "metadata": {
        "colab": {
          "base_uri": "https://localhost:8080/"
        },
        "id": "SAVE9u0sbqQQ",
        "outputId": "b585f1ce-6661-428e-fec3-04940479315c"
      },
      "execution_count": 30,
      "outputs": [
        {
          "output_type": "stream",
          "name": "stdout",
          "text": [
            "tensor([[0.8854, 0.5739, 0.2666],\n",
            "        [0.6274, 0.2696, 0.4414]])\n",
            "tensor([[0.2969, 0.8317, 0.1053],\n",
            "        [0.2695, 0.3588, 0.1994]])\n"
          ]
        }
      ]
    },
    {
      "cell_type": "code",
      "source": [
        "# add\n",
        "a + b"
      ],
      "metadata": {
        "colab": {
          "base_uri": "https://localhost:8080/"
        },
        "id": "Ywj3DDyJb4vj",
        "outputId": "ae67a525-388e-41d9-f171-587a3ed2b106"
      },
      "execution_count": 31,
      "outputs": [
        {
          "output_type": "execute_result",
          "data": {
            "text/plain": [
              "tensor([[1.1824, 1.4056, 0.3719],\n",
              "        [0.8969, 0.6284, 0.6407]])"
            ]
          },
          "metadata": {},
          "execution_count": 31
        }
      ]
    },
    {
      "cell_type": "code",
      "source": [
        "# subtract\n",
        "a - b"
      ],
      "metadata": {
        "colab": {
          "base_uri": "https://localhost:8080/"
        },
        "id": "Yfl3d-L5b7TJ",
        "outputId": "4f2f0892-7e90-4720-8d0d-d4225ee4a988"
      },
      "execution_count": 32,
      "outputs": [
        {
          "output_type": "execute_result",
          "data": {
            "text/plain": [
              "tensor([[ 0.5885, -0.2578,  0.1613],\n",
              "        [ 0.3580, -0.0892,  0.2420]])"
            ]
          },
          "metadata": {},
          "execution_count": 32
        }
      ]
    },
    {
      "cell_type": "code",
      "source": [
        "# multiply\n",
        "a * b"
      ],
      "metadata": {
        "colab": {
          "base_uri": "https://localhost:8080/"
        },
        "id": "Yi3RQP1Bb-Cr",
        "outputId": "f2221c7b-2e24-40f6-d559-b24158ceed66"
      },
      "execution_count": 33,
      "outputs": [
        {
          "output_type": "execute_result",
          "data": {
            "text/plain": [
              "tensor([[0.2629, 0.4773, 0.0281],\n",
              "        [0.1691, 0.0967, 0.0880]])"
            ]
          },
          "metadata": {},
          "execution_count": 33
        }
      ]
    },
    {
      "cell_type": "code",
      "source": [
        "# division\n",
        "a / b"
      ],
      "metadata": {
        "colab": {
          "base_uri": "https://localhost:8080/"
        },
        "id": "hX2tiOeZb_9p",
        "outputId": "2bfc1276-07d0-4f85-a469-7b14a4c611c3"
      },
      "execution_count": 34,
      "outputs": [
        {
          "output_type": "execute_result",
          "data": {
            "text/plain": [
              "tensor([[2.9821, 0.6900, 2.5313],\n",
              "        [2.3282, 0.7515, 2.2139]])"
            ]
          },
          "metadata": {},
          "execution_count": 34
        }
      ]
    },
    {
      "cell_type": "code",
      "source": [
        "# mod\n",
        "a % b"
      ],
      "metadata": {
        "colab": {
          "base_uri": "https://localhost:8080/"
        },
        "id": "uX0Sh00ZcCXf",
        "outputId": "56748561-02bb-42a5-a169-61e3c7d05d03"
      },
      "execution_count": 35,
      "outputs": [
        {
          "output_type": "execute_result",
          "data": {
            "text/plain": [
              "tensor([[0.2916, 0.5739, 0.0560],\n",
              "        [0.0885, 0.2696, 0.0426]])"
            ]
          },
          "metadata": {},
          "execution_count": 35
        }
      ]
    },
    {
      "cell_type": "code",
      "source": [
        "c = torch.tensor([1, -2, 3, -4])"
      ],
      "metadata": {
        "id": "CQ0dVc_JcI5d"
      },
      "execution_count": 36,
      "outputs": []
    },
    {
      "cell_type": "code",
      "source": [
        "# abs\n",
        "torch.abs(c)"
      ],
      "metadata": {
        "colab": {
          "base_uri": "https://localhost:8080/"
        },
        "id": "0preTGhZcECu",
        "outputId": "fd7f178e-2813-41ad-a01a-f3dd785e3959"
      },
      "execution_count": 37,
      "outputs": [
        {
          "output_type": "execute_result",
          "data": {
            "text/plain": [
              "tensor([1, 2, 3, 4])"
            ]
          },
          "metadata": {},
          "execution_count": 37
        }
      ]
    },
    {
      "cell_type": "code",
      "source": [
        "# negative\n",
        "torch.neg(c)"
      ],
      "metadata": {
        "colab": {
          "base_uri": "https://localhost:8080/"
        },
        "id": "EvUwlsEIcPU7",
        "outputId": "09fffff8-f215-40f6-e1e0-b3b5c85ca67d"
      },
      "execution_count": 38,
      "outputs": [
        {
          "output_type": "execute_result",
          "data": {
            "text/plain": [
              "tensor([-1,  2, -3,  4])"
            ]
          },
          "metadata": {},
          "execution_count": 38
        }
      ]
    },
    {
      "cell_type": "code",
      "source": [
        "d = torch.tensor([1.2, 1.5, 1.8])\n",
        "d"
      ],
      "metadata": {
        "colab": {
          "base_uri": "https://localhost:8080/"
        },
        "id": "Ded3uCHtcZyf",
        "outputId": "531ce532-8b43-4beb-e8f9-b48f6f249c50"
      },
      "execution_count": 39,
      "outputs": [
        {
          "output_type": "execute_result",
          "data": {
            "text/plain": [
              "tensor([1.2000, 1.5000, 1.8000])"
            ]
          },
          "metadata": {},
          "execution_count": 39
        }
      ]
    },
    {
      "cell_type": "code",
      "source": [
        "# round\n",
        "torch.round(d)"
      ],
      "metadata": {
        "colab": {
          "base_uri": "https://localhost:8080/"
        },
        "id": "Pf1C3bKacT26",
        "outputId": "0219bf09-c8e7-4b30-8194-720ceabc4bfc"
      },
      "execution_count": 40,
      "outputs": [
        {
          "output_type": "execute_result",
          "data": {
            "text/plain": [
              "tensor([1., 2., 2.])"
            ]
          },
          "metadata": {},
          "execution_count": 40
        }
      ]
    },
    {
      "cell_type": "code",
      "source": [
        "# ceil\n",
        "torch.ceil(d)"
      ],
      "metadata": {
        "colab": {
          "base_uri": "https://localhost:8080/"
        },
        "id": "qqQAgMLMcbuq",
        "outputId": "53052e38-37b9-482c-c111-b59c53a863d1"
      },
      "execution_count": 41,
      "outputs": [
        {
          "output_type": "execute_result",
          "data": {
            "text/plain": [
              "tensor([2., 2., 2.])"
            ]
          },
          "metadata": {},
          "execution_count": 41
        }
      ]
    },
    {
      "cell_type": "code",
      "source": [
        "# floor\n",
        "torch.floor(d)"
      ],
      "metadata": {
        "colab": {
          "base_uri": "https://localhost:8080/"
        },
        "id": "5CXKvPyBcd7_",
        "outputId": "10e2c1f5-d042-4665-888d-ab1904de097f"
      },
      "execution_count": 42,
      "outputs": [
        {
          "output_type": "execute_result",
          "data": {
            "text/plain": [
              "tensor([1., 1., 1.])"
            ]
          },
          "metadata": {},
          "execution_count": 42
        }
      ]
    },
    {
      "cell_type": "code",
      "source": [
        "# clamp -> you can keep the tensors elements in a range\n",
        "torch.clamp(d, min=1.1, max=1.7)"
      ],
      "metadata": {
        "colab": {
          "base_uri": "https://localhost:8080/"
        },
        "id": "YdLTDlDucgAM",
        "outputId": "f0108771-6c8e-4f1b-a3bf-84873a46ea55"
      },
      "execution_count": 43,
      "outputs": [
        {
          "output_type": "execute_result",
          "data": {
            "text/plain": [
              "tensor([1.2000, 1.5000, 1.7000])"
            ]
          },
          "metadata": {},
          "execution_count": 43
        }
      ]
    },
    {
      "cell_type": "markdown",
      "source": [
        "#### 3. Reduction Operations"
      ],
      "metadata": {
        "id": "Hh_mN7dWcrQK"
      }
    },
    {
      "cell_type": "code",
      "source": [
        "e = torch.randint(size=(2,3), low=0, high=10, dtype=torch.float32)\n",
        "f = torch.randint(size=(2,3), low=0, high=10, dtype=torch.float32)\n",
        "\n",
        "print(e)\n",
        "print(f)"
      ],
      "metadata": {
        "colab": {
          "base_uri": "https://localhost:8080/"
        },
        "id": "wLi0jJAgcpxr",
        "outputId": "a7daf286-2a67-46d8-9953-4b2226c68b8b"
      },
      "execution_count": 47,
      "outputs": [
        {
          "output_type": "stream",
          "name": "stdout",
          "text": [
            "tensor([[3., 4., 9.],\n",
            "        [6., 2., 0.]])\n",
            "tensor([[6., 2., 7.],\n",
            "        [9., 7., 3.]])\n"
          ]
        }
      ]
    },
    {
      "cell_type": "code",
      "source": [
        "# sum\n",
        "print(torch.sum(e))\n",
        "\n",
        "# sum along columns\n",
        "print(torch.sum(e, dim=0))\n",
        "\n",
        "# sum along rows\n",
        "print(torch.sum(e, dim=1))"
      ],
      "metadata": {
        "colab": {
          "base_uri": "https://localhost:8080/"
        },
        "id": "GMQvVvNHc-FV",
        "outputId": "602c4dbd-1f37-4103-c1fd-651232fc7c5d"
      },
      "execution_count": 48,
      "outputs": [
        {
          "output_type": "stream",
          "name": "stdout",
          "text": [
            "tensor(24.)\n",
            "tensor([9., 6., 9.])\n",
            "tensor([16.,  8.])\n"
          ]
        }
      ]
    },
    {
      "cell_type": "code",
      "source": [
        "# mean\n",
        "print(torch.mean(e))\n",
        "\n",
        "# mean along columns\n",
        "print(torch.mean(e, dim=0))\n",
        "\n",
        "# mean along rows\n",
        "print(torch.mean(e, dim=1))"
      ],
      "metadata": {
        "colab": {
          "base_uri": "https://localhost:8080/"
        },
        "id": "wMqs3uAhdLe8",
        "outputId": "6a5d690a-b941-4b72-bb59-24402d05d330"
      },
      "execution_count": 49,
      "outputs": [
        {
          "output_type": "stream",
          "name": "stdout",
          "text": [
            "tensor(4.)\n",
            "tensor([4.5000, 3.0000, 4.5000])\n",
            "tensor([5.3333, 2.6667])\n"
          ]
        }
      ]
    },
    {
      "cell_type": "code",
      "source": [
        "# median\n",
        "print(torch.median(e))\n",
        "\n",
        "# median along columns\n",
        "print(torch.median(e, dim=0))\n",
        "\n",
        "# median along rows\n",
        "print(torch.median(e, dim=1))"
      ],
      "metadata": {
        "colab": {
          "base_uri": "https://localhost:8080/"
        },
        "id": "WGo8au8edO9V",
        "outputId": "a184c223-8718-4b92-a7a6-e7d00c2ed50e"
      },
      "execution_count": 50,
      "outputs": [
        {
          "output_type": "stream",
          "name": "stdout",
          "text": [
            "tensor(3.)\n",
            "torch.return_types.median(\n",
            "values=tensor([3., 2., 0.]),\n",
            "indices=tensor([0, 1, 1]))\n",
            "torch.return_types.median(\n",
            "values=tensor([4., 2.]),\n",
            "indices=tensor([1, 1]))\n"
          ]
        }
      ]
    },
    {
      "cell_type": "code",
      "source": [
        "# max and min\n",
        "print(torch.max(e))\n",
        "print(torch.min(e))"
      ],
      "metadata": {
        "colab": {
          "base_uri": "https://localhost:8080/"
        },
        "id": "4rGJKzU7dq_L",
        "outputId": "536fbc7f-d336-40d7-e7be-f9768b29bfca"
      },
      "execution_count": 51,
      "outputs": [
        {
          "output_type": "stream",
          "name": "stdout",
          "text": [
            "tensor(9.)\n",
            "tensor(0.)\n"
          ]
        }
      ]
    },
    {
      "cell_type": "code",
      "source": [
        "# product\n",
        "print(torch.prod(e))"
      ],
      "metadata": {
        "colab": {
          "base_uri": "https://localhost:8080/"
        },
        "id": "UgRMDOP7dtlp",
        "outputId": "7ccc789a-ee32-4c83-ae1e-55322a31b21a"
      },
      "execution_count": 53,
      "outputs": [
        {
          "output_type": "stream",
          "name": "stdout",
          "text": [
            "tensor(0.)\n"
          ]
        }
      ]
    },
    {
      "cell_type": "code",
      "source": [
        "# standard deviation\n",
        "print(torch.std(e))"
      ],
      "metadata": {
        "colab": {
          "base_uri": "https://localhost:8080/"
        },
        "id": "OXZeJ4FId0Ah",
        "outputId": "884e5e4a-ff7a-4e43-8e6a-6adee4708668"
      },
      "execution_count": 54,
      "outputs": [
        {
          "output_type": "stream",
          "name": "stdout",
          "text": [
            "tensor(3.1623)\n"
          ]
        }
      ]
    },
    {
      "cell_type": "code",
      "source": [
        "# variance\n",
        "torch.var(e)"
      ],
      "metadata": {
        "colab": {
          "base_uri": "https://localhost:8080/"
        },
        "id": "cq8Nz6I4d7cB",
        "outputId": "37b784d9-7b16-4abe-9000-3b51c1ac5da2"
      },
      "execution_count": 55,
      "outputs": [
        {
          "output_type": "execute_result",
          "data": {
            "text/plain": [
              "tensor(10.)"
            ]
          },
          "metadata": {},
          "execution_count": 55
        }
      ]
    },
    {
      "cell_type": "code",
      "source": [
        "# argmax -> Position of max item\n",
        "torch.argmax(e)"
      ],
      "metadata": {
        "colab": {
          "base_uri": "https://localhost:8080/"
        },
        "id": "dtNzZerCd-KY",
        "outputId": "d3a4ccd4-da2a-4fa0-b738-3afe27f2c34e"
      },
      "execution_count": 56,
      "outputs": [
        {
          "output_type": "execute_result",
          "data": {
            "text/plain": [
              "tensor(2)"
            ]
          },
          "metadata": {},
          "execution_count": 56
        }
      ]
    },
    {
      "cell_type": "code",
      "source": [
        "# argmin -> Position of min item\n",
        "torch.argmin(e)"
      ],
      "metadata": {
        "colab": {
          "base_uri": "https://localhost:8080/"
        },
        "id": "HetUl2dTeGeH",
        "outputId": "164ed7ec-8d2d-44b6-f4c7-2b411bf56599"
      },
      "execution_count": 57,
      "outputs": [
        {
          "output_type": "execute_result",
          "data": {
            "text/plain": [
              "tensor(5)"
            ]
          },
          "metadata": {},
          "execution_count": 57
        }
      ]
    },
    {
      "cell_type": "markdown",
      "source": [
        "#### 4. Matrix Operation"
      ],
      "metadata": {
        "id": "tseMjwr_eNUW"
      }
    },
    {
      "cell_type": "code",
      "source": [
        "g = torch.randint(size=(2,3), low=0, high=10)\n",
        "h = torch.randint(size=(3,2), low=0, high=10)\n",
        "\n",
        "print(g)\n",
        "print(h)"
      ],
      "metadata": {
        "colab": {
          "base_uri": "https://localhost:8080/"
        },
        "id": "9fnLaIGmeKGw",
        "outputId": "e53baa93-feb9-44c2-83a8-a58da6c2eb33"
      },
      "execution_count": 58,
      "outputs": [
        {
          "output_type": "stream",
          "name": "stdout",
          "text": [
            "tensor([[3, 4, 3],\n",
            "        [7, 0, 9]])\n",
            "tensor([[0, 9],\n",
            "        [6, 9],\n",
            "        [5, 4]])\n"
          ]
        }
      ]
    },
    {
      "cell_type": "code",
      "source": [
        "# matrix multiplication\n",
        "torch.matmul(g, h)"
      ],
      "metadata": {
        "colab": {
          "base_uri": "https://localhost:8080/"
        },
        "id": "OOrWQjQseZk2",
        "outputId": "bf7f3d7b-29bc-4c22-e092-2f2f0f505d76"
      },
      "execution_count": 59,
      "outputs": [
        {
          "output_type": "execute_result",
          "data": {
            "text/plain": [
              "tensor([[39, 75],\n",
              "        [45, 99]])"
            ]
          },
          "metadata": {},
          "execution_count": 59
        }
      ]
    },
    {
      "cell_type": "code",
      "source": [
        "vector1 = torch.tensor([1, 2, 3])\n",
        "vector2 = torch.tensor([4, 5, 6])\n",
        "\n",
        "# dot product\n",
        "torch.dot(vector1, vector2)"
      ],
      "metadata": {
        "colab": {
          "base_uri": "https://localhost:8080/"
        },
        "id": "r4XNxYkoeclr",
        "outputId": "ea993ec1-393f-447c-ca41-9ad27cd4f569"
      },
      "execution_count": 60,
      "outputs": [
        {
          "output_type": "execute_result",
          "data": {
            "text/plain": [
              "tensor(32)"
            ]
          },
          "metadata": {},
          "execution_count": 60
        }
      ]
    },
    {
      "cell_type": "code",
      "source": [
        "# transpose\n",
        "torch.transpose(f, 0, 1)"
      ],
      "metadata": {
        "colab": {
          "base_uri": "https://localhost:8080/"
        },
        "id": "-osAKDckeft9",
        "outputId": "a254f7d0-2213-4eb9-f259-022be74c226c"
      },
      "execution_count": 62,
      "outputs": [
        {
          "output_type": "execute_result",
          "data": {
            "text/plain": [
              "tensor([[6., 9.],\n",
              "        [2., 7.],\n",
              "        [7., 3.]])"
            ]
          },
          "metadata": {},
          "execution_count": 62
        }
      ]
    },
    {
      "cell_type": "code",
      "source": [
        "# determinant\n",
        "torch.det(torch.matmul(g, h).to(torch.float32))"
      ],
      "metadata": {
        "colab": {
          "base_uri": "https://localhost:8080/"
        },
        "id": "dUOqgKneelzz",
        "outputId": "91983003-1d31-4f71-a299-ba5e0154106f"
      },
      "execution_count": 65,
      "outputs": [
        {
          "output_type": "execute_result",
          "data": {
            "text/plain": [
              "tensor(485.9998)"
            ]
          },
          "metadata": {},
          "execution_count": 65
        }
      ]
    },
    {
      "cell_type": "code",
      "source": [
        "# inverse\n",
        "torch.inverse(torch.matmul(g, h).to(torch.float32))"
      ],
      "metadata": {
        "colab": {
          "base_uri": "https://localhost:8080/"
        },
        "id": "0M-bo-yferH3",
        "outputId": "ccc11755-b8a9-4588-e038-07e81dc05feb"
      },
      "execution_count": 67,
      "outputs": [
        {
          "output_type": "execute_result",
          "data": {
            "text/plain": [
              "tensor([[ 0.2037, -0.1543],\n",
              "        [-0.0926,  0.0802]])"
            ]
          },
          "metadata": {},
          "execution_count": 67
        }
      ]
    },
    {
      "cell_type": "markdown",
      "source": [
        "#### 5. Comparison Operations"
      ],
      "metadata": {
        "id": "bKUJViy6gPPR"
      }
    },
    {
      "cell_type": "code",
      "source": [
        "i = torch.randint(size=(2, 3), low=0, high=10)\n",
        "j = torch.randint(size=(2, 3), low=0, high=10)\n",
        "\n",
        "print(i)\n",
        "print(j)"
      ],
      "metadata": {
        "colab": {
          "base_uri": "https://localhost:8080/"
        },
        "id": "aJK597iMgCaA",
        "outputId": "83a3e015-2f03-4aa4-c4f7-42794f796c47"
      },
      "execution_count": 68,
      "outputs": [
        {
          "output_type": "stream",
          "name": "stdout",
          "text": [
            "tensor([[8, 8, 6],\n",
            "        [0, 0, 0]])\n",
            "tensor([[0, 1, 3],\n",
            "        [0, 1, 1]])\n"
          ]
        }
      ]
    },
    {
      "cell_type": "code",
      "source": [
        "# greater than\n",
        "print(j > j)\n",
        "\n",
        "# less than\n",
        "print(i < j)\n",
        "\n",
        "# equal to\n",
        "print(i == j)\n",
        "\n",
        "# not equal to\n",
        "print(i != j)\n",
        "\n",
        "# greater than equal to\n",
        "print(i >= j)\n",
        "\n",
        "# less than equal to\n",
        "print(i <= j)"
      ],
      "metadata": {
        "colab": {
          "base_uri": "https://localhost:8080/"
        },
        "id": "BP7SmHpYgfma",
        "outputId": "36b14af8-fc89-4b82-c07f-ba0e8e761755"
      },
      "execution_count": 69,
      "outputs": [
        {
          "output_type": "stream",
          "name": "stdout",
          "text": [
            "tensor([[False, False, False],\n",
            "        [False, False, False]])\n",
            "tensor([[False, False, False],\n",
            "        [False,  True,  True]])\n",
            "tensor([[False, False, False],\n",
            "        [ True, False, False]])\n",
            "tensor([[ True,  True,  True],\n",
            "        [False,  True,  True]])\n",
            "tensor([[ True,  True,  True],\n",
            "        [ True, False, False]])\n",
            "tensor([[False, False, False],\n",
            "        [ True,  True,  True]])\n"
          ]
        }
      ]
    },
    {
      "cell_type": "markdown",
      "source": [
        "#### 6. Special Functions"
      ],
      "metadata": {
        "id": "PfZCvI52g1-P"
      }
    },
    {
      "cell_type": "code",
      "source": [
        "k = torch.randint(size=(2, 3), low=0, high=10)\n",
        "\n",
        "print(k)"
      ],
      "metadata": {
        "colab": {
          "base_uri": "https://localhost:8080/"
        },
        "id": "hG-EfYR9g0eC",
        "outputId": "f0b8cb99-cbc8-4ebc-ef1b-2edd94d603db"
      },
      "execution_count": 70,
      "outputs": [
        {
          "output_type": "stream",
          "name": "stdout",
          "text": [
            "tensor([[7, 9, 4],\n",
            "        [3, 8, 9]])\n"
          ]
        }
      ]
    },
    {
      "cell_type": "code",
      "source": [
        "# log\n",
        "torch.log(k)"
      ],
      "metadata": {
        "colab": {
          "base_uri": "https://localhost:8080/"
        },
        "id": "maU3b_gKhAaB",
        "outputId": "49ad28d8-a9cc-44c1-8040-98cd0a905246"
      },
      "execution_count": 71,
      "outputs": [
        {
          "output_type": "execute_result",
          "data": {
            "text/plain": [
              "tensor([[1.9459, 2.1972, 1.3863],\n",
              "        [1.0986, 2.0794, 2.1972]])"
            ]
          },
          "metadata": {},
          "execution_count": 71
        }
      ]
    },
    {
      "cell_type": "code",
      "source": [
        "# exp\n",
        "torch.exp(k)"
      ],
      "metadata": {
        "colab": {
          "base_uri": "https://localhost:8080/"
        },
        "id": "BDTpN1O9hB16",
        "outputId": "3418f253-c79e-4d5b-b164-fe5887f20cda"
      },
      "execution_count": 72,
      "outputs": [
        {
          "output_type": "execute_result",
          "data": {
            "text/plain": [
              "tensor([[1096.6332, 8103.0840,   54.5981],\n",
              "        [  20.0855, 2980.9580, 8103.0840]])"
            ]
          },
          "metadata": {},
          "execution_count": 72
        }
      ]
    },
    {
      "cell_type": "code",
      "source": [
        "# sqrt\n",
        "torch.sqrt(k)"
      ],
      "metadata": {
        "colab": {
          "base_uri": "https://localhost:8080/"
        },
        "id": "TyEfyG-6hEaQ",
        "outputId": "9dd0c2b4-4be1-43f5-a4ec-53de80aa2a64"
      },
      "execution_count": 73,
      "outputs": [
        {
          "output_type": "execute_result",
          "data": {
            "text/plain": [
              "tensor([[2.6458, 3.0000, 2.0000],\n",
              "        [1.7321, 2.8284, 3.0000]])"
            ]
          },
          "metadata": {},
          "execution_count": 73
        }
      ]
    },
    {
      "cell_type": "code",
      "source": [
        "# sigmoid\n",
        "torch.sigmoid(k)"
      ],
      "metadata": {
        "colab": {
          "base_uri": "https://localhost:8080/"
        },
        "id": "XZVYLfrnhHgV",
        "outputId": "6422e07d-a2c7-4c6b-db7d-d64d5d10640f"
      },
      "execution_count": 74,
      "outputs": [
        {
          "output_type": "execute_result",
          "data": {
            "text/plain": [
              "tensor([[0.9991, 0.9999, 0.9820],\n",
              "        [0.9526, 0.9997, 0.9999]])"
            ]
          },
          "metadata": {},
          "execution_count": 74
        }
      ]
    },
    {
      "cell_type": "code",
      "source": [
        "# softmax\n",
        "k = torch.randint(size=(2, 3), low=0, high=10, dtype=torch.float32)\n",
        "\n",
        "print(k)\n",
        "torch.softmax(k, dim=0)"
      ],
      "metadata": {
        "colab": {
          "base_uri": "https://localhost:8080/"
        },
        "id": "kyGB5GwnhKPU",
        "outputId": "36d0f2a3-eb1b-4c12-cb63-cdee5e6999cd"
      },
      "execution_count": 77,
      "outputs": [
        {
          "output_type": "stream",
          "name": "stdout",
          "text": [
            "tensor([[6., 3., 2.],\n",
            "        [0., 9., 8.]])\n"
          ]
        },
        {
          "output_type": "execute_result",
          "data": {
            "text/plain": [
              "tensor([[0.9975, 0.0025, 0.0025],\n",
              "        [0.0025, 0.9975, 0.9975]])"
            ]
          },
          "metadata": {},
          "execution_count": 77
        }
      ]
    },
    {
      "cell_type": "code",
      "source": [
        "# relu\n",
        "torch.relu(k)"
      ],
      "metadata": {
        "colab": {
          "base_uri": "https://localhost:8080/"
        },
        "id": "pvhF1WdUhPUp",
        "outputId": "796fae32-2cc0-4d2c-90c3-1930c452f1ef"
      },
      "execution_count": 78,
      "outputs": [
        {
          "output_type": "execute_result",
          "data": {
            "text/plain": [
              "tensor([[6., 3., 2.],\n",
              "        [0., 9., 8.]])"
            ]
          },
          "metadata": {},
          "execution_count": 78
        }
      ]
    },
    {
      "cell_type": "markdown",
      "source": [
        "### Inplace Operations"
      ],
      "metadata": {
        "id": "5D6Thk0mhjgU"
      }
    },
    {
      "cell_type": "code",
      "source": [
        "m = torch.rand(2, 3)\n",
        "n = torch.rand(2, 3)\n",
        "\n",
        "print(m)\n",
        "print(n)"
      ],
      "metadata": {
        "colab": {
          "base_uri": "https://localhost:8080/"
        },
        "id": "Nwq-MCu8hYX4",
        "outputId": "dd4611fa-afaa-4272-d69c-76927cf97cb9"
      },
      "execution_count": 79,
      "outputs": [
        {
          "output_type": "stream",
          "name": "stdout",
          "text": [
            "tensor([[0.2477, 0.6524, 0.6057],\n",
            "        [0.3725, 0.7980, 0.8399]])\n",
            "tensor([[0.1374, 0.2331, 0.9578],\n",
            "        [0.3313, 0.3227, 0.0162]])\n"
          ]
        }
      ]
    },
    {
      "cell_type": "code",
      "source": [
        "# Sometimes there are very big tensors and you don't want a new tensor to be created so we use inplace\n",
        "m.add_(n) # This is inplace operation\n",
        "print(m)\n",
        "print(n)"
      ],
      "metadata": {
        "colab": {
          "base_uri": "https://localhost:8080/"
        },
        "id": "l9LywgDfhvhT",
        "outputId": "6de98460-0cc5-44e5-e9e4-076846b4fe1f"
      },
      "execution_count": 80,
      "outputs": [
        {
          "output_type": "stream",
          "name": "stdout",
          "text": [
            "tensor([[0.3851, 0.8855, 1.5635],\n",
            "        [0.7038, 1.1208, 0.8561]])\n",
            "tensor([[0.1374, 0.2331, 0.9578],\n",
            "        [0.3313, 0.3227, 0.0162]])\n"
          ]
        }
      ]
    },
    {
      "cell_type": "code",
      "source": [
        "m.relu_() # This is inplace operation\n",
        "# When ever you want to perform inplace operation then write it after the object and use _ which signify inplace operation"
      ],
      "metadata": {
        "colab": {
          "base_uri": "https://localhost:8080/"
        },
        "id": "eTk_A6iTh-3N",
        "outputId": "21b1e0f3-9d6e-4c7c-e622-1e77adb40667"
      },
      "execution_count": 81,
      "outputs": [
        {
          "output_type": "execute_result",
          "data": {
            "text/plain": [
              "tensor([[0.3851, 0.8855, 1.5635],\n",
              "        [0.7038, 1.1208, 0.8561]])"
            ]
          },
          "metadata": {},
          "execution_count": 81
        }
      ]
    },
    {
      "cell_type": "markdown",
      "source": [
        "### Copying a Tensor"
      ],
      "metadata": {
        "id": "6UWes70giWt9"
      }
    },
    {
      "cell_type": "code",
      "source": [
        "a = torch.rand(2, 3)\n",
        "print(a)\n",
        "b = a\n",
        "print(b)\n",
        "\n",
        "# In this case if you make changes in a then the changes will be reflected in b which is not desirable"
      ],
      "metadata": {
        "colab": {
          "base_uri": "https://localhost:8080/"
        },
        "id": "m5jY7Oo0iRhH",
        "outputId": "413f68c9-ab90-4096-f78f-bad9b8affd68"
      },
      "execution_count": 82,
      "outputs": [
        {
          "output_type": "stream",
          "name": "stdout",
          "text": [
            "tensor([[0.2137, 0.6249, 0.4340],\n",
            "        [0.1371, 0.5117, 0.1585]])\n",
            "tensor([[0.2137, 0.6249, 0.4340],\n",
            "        [0.1371, 0.5117, 0.1585]])\n"
          ]
        }
      ]
    },
    {
      "cell_type": "code",
      "source": [
        "b = a.clone() # This will create a completely independent copy"
      ],
      "metadata": {
        "id": "Ls73-2ibipT0"
      },
      "execution_count": 83,
      "outputs": []
    },
    {
      "cell_type": "markdown",
      "source": [
        "### Tensor Operations on GPU"
      ],
      "metadata": {
        "id": "P57MYMPIi4zT"
      }
    },
    {
      "cell_type": "code",
      "source": [
        "torch.cuda.is_available()"
      ],
      "metadata": {
        "colab": {
          "base_uri": "https://localhost:8080/"
        },
        "id": "29y1M_JGi3OR",
        "outputId": "839f9b77-88bc-4b55-a4fe-7efe1413203c"
      },
      "execution_count": 7,
      "outputs": [
        {
          "output_type": "execute_result",
          "data": {
            "text/plain": [
              "True"
            ]
          },
          "metadata": {},
          "execution_count": 7
        }
      ]
    },
    {
      "cell_type": "code",
      "source": [
        "device = torch.device('cuda')"
      ],
      "metadata": {
        "id": "1kKD26H_i_ZH"
      },
      "execution_count": 8,
      "outputs": []
    },
    {
      "cell_type": "code",
      "source": [
        "# To run your tensor operations on GPU either you have to create the tensors on gpu itself or you have to move the exisiting tensors on cpu on the gpu\n",
        "\n",
        "# Creating a new tensor on GPU\n",
        "torch.rand((2, 3), device=device)"
      ],
      "metadata": {
        "colab": {
          "base_uri": "https://localhost:8080/"
        },
        "id": "fYp7bj1SjCZD",
        "outputId": "5fb5a071-116f-41aa-bed9-2f4da0f9afac"
      },
      "execution_count": 9,
      "outputs": [
        {
          "output_type": "execute_result",
          "data": {
            "text/plain": [
              "tensor([[0.4220, 0.5361, 0.6003],\n",
              "        [0.6543, 0.0068, 0.6750]], device='cuda:0')"
            ]
          },
          "metadata": {},
          "execution_count": 9
        }
      ]
    },
    {
      "cell_type": "code",
      "source": [
        "# Moving an existing tensor to GPU\n",
        "a = torch.rand(2, 3) # this tensor is been created on cpu\n",
        "print(a)\n",
        "\n",
        "b = a.to(device)\n",
        "print(b)"
      ],
      "metadata": {
        "colab": {
          "base_uri": "https://localhost:8080/"
        },
        "id": "lbtOwByQjj0X",
        "outputId": "eb0aaeec-9970-4ef2-de11-ca8576396e6a"
      },
      "execution_count": 14,
      "outputs": [
        {
          "output_type": "stream",
          "name": "stdout",
          "text": [
            "tensor([[0.9050, 0.4191, 0.9823],\n",
            "        [0.2971, 0.7622, 0.9573]])\n",
            "tensor([[0.9050, 0.4191, 0.9823],\n",
            "        [0.2971, 0.7622, 0.9573]], device='cuda:0')\n"
          ]
        }
      ]
    },
    {
      "cell_type": "code",
      "source": [
        "b + 5 # This operations is performed on gpu"
      ],
      "metadata": {
        "colab": {
          "base_uri": "https://localhost:8080/"
        },
        "id": "pr7l1HVzju-D",
        "outputId": "4aa91185-d47f-4cdc-e2ea-efe34d59fdc9"
      },
      "execution_count": 16,
      "outputs": [
        {
          "output_type": "execute_result",
          "data": {
            "text/plain": [
              "tensor([[5.9050, 5.4191, 5.9823],\n",
              "        [5.2971, 5.7622, 5.9573]], device='cuda:0')"
            ]
          },
          "metadata": {},
          "execution_count": 16
        }
      ]
    },
    {
      "cell_type": "markdown",
      "source": [
        "### Comparing CPU and GPU tensor operations speed"
      ],
      "metadata": {
        "id": "YH6ipEEhkn3m"
      }
    },
    {
      "cell_type": "code",
      "source": [
        "import time\n",
        "\n",
        "size = 10000\n",
        "\n",
        "matrix_cpu1 = torch.rand(size, size)\n",
        "matrix_cpu2 = torch.rand(size, size)\n",
        "\n",
        "start_time1 = time.time()\n",
        "result_cpu = torch.matmul(matrix_cpu1, matrix_cpu2)\n",
        "end_time1 = time.time()\n",
        "print(\"CPU time:\", end_time1 - start_time1)\n",
        "\n",
        "matrix_gpu1 = matrix_cpu1.to(device)\n",
        "matrix_gpu2 = matrix_cpu2.to(device)\n",
        "\n",
        "start_time2 = time.time()\n",
        "result_gpu = torch.matmul(matrix_gpu1, matrix_gpu2)\n",
        "end_time2 = time.time()\n",
        "print(\"GPU time:\", end_time2 - start_time2)"
      ],
      "metadata": {
        "colab": {
          "base_uri": "https://localhost:8080/"
        },
        "id": "8WfsIGo_kMLH",
        "outputId": "33786f22-c9d6-4c11-9539-4ab240a8c7bf"
      },
      "execution_count": 18,
      "outputs": [
        {
          "output_type": "stream",
          "name": "stdout",
          "text": [
            "CPU time: 18.118367910385132\n",
            "GPU time: 0.041734933853149414\n"
          ]
        }
      ]
    },
    {
      "cell_type": "code",
      "source": [
        "# speed up\n",
        "print(\"Speed up:\", (end_time1 - start_time1) / (end_time2 - start_time2))"
      ],
      "metadata": {
        "colab": {
          "base_uri": "https://localhost:8080/"
        },
        "id": "p1-8GiSHlCl5",
        "outputId": "7d3b85d9-e0f6-495f-afed-adf11b02a071"
      },
      "execution_count": 20,
      "outputs": [
        {
          "output_type": "stream",
          "name": "stdout",
          "text": [
            "Speed up: 434.12954658409933\n"
          ]
        }
      ]
    },
    {
      "cell_type": "markdown",
      "source": [
        "### Reshaping Tensors"
      ],
      "metadata": {
        "id": "6hNFTQxxle3U"
      }
    },
    {
      "cell_type": "code",
      "source": [
        "a = torch.ones(4, 4)\n",
        "a"
      ],
      "metadata": {
        "colab": {
          "base_uri": "https://localhost:8080/"
        },
        "id": "7nh9uF3rlWr6",
        "outputId": "1867be84-9fdb-4ceb-fa1d-f6286f1f9e52"
      },
      "execution_count": 21,
      "outputs": [
        {
          "output_type": "execute_result",
          "data": {
            "text/plain": [
              "tensor([[1., 1., 1., 1.],\n",
              "        [1., 1., 1., 1.],\n",
              "        [1., 1., 1., 1.],\n",
              "        [1., 1., 1., 1.]])"
            ]
          },
          "metadata": {},
          "execution_count": 21
        }
      ]
    },
    {
      "cell_type": "code",
      "source": [
        "# reshape -> Multiplication of size should be same\n",
        "a.reshape(2, 2, 2, 2)"
      ],
      "metadata": {
        "colab": {
          "base_uri": "https://localhost:8080/"
        },
        "id": "iEPAaJqKlnZ_",
        "outputId": "d6646375-8efe-4f01-d62f-f963dc7daa98"
      },
      "execution_count": 22,
      "outputs": [
        {
          "output_type": "execute_result",
          "data": {
            "text/plain": [
              "tensor([[[[1., 1.],\n",
              "          [1., 1.]],\n",
              "\n",
              "         [[1., 1.],\n",
              "          [1., 1.]]],\n",
              "\n",
              "\n",
              "        [[[1., 1.],\n",
              "          [1., 1.]],\n",
              "\n",
              "         [[1., 1.],\n",
              "          [1., 1.]]]])"
            ]
          },
          "metadata": {},
          "execution_count": 22
        }
      ]
    },
    {
      "cell_type": "code",
      "source": [
        "# flatten -> Gives 1D tensor\n",
        "a.flatten()"
      ],
      "metadata": {
        "colab": {
          "base_uri": "https://localhost:8080/"
        },
        "id": "5teMclYLlru1",
        "outputId": "926868ad-21f6-4c20-eab1-14165ddc9038"
      },
      "execution_count": 23,
      "outputs": [
        {
          "output_type": "execute_result",
          "data": {
            "text/plain": [
              "tensor([1., 1., 1., 1., 1., 1., 1., 1., 1., 1., 1., 1., 1., 1., 1., 1.])"
            ]
          },
          "metadata": {},
          "execution_count": 23
        }
      ]
    },
    {
      "cell_type": "code",
      "source": [
        "b = torch.rand(2, 3, 4)\n",
        "b"
      ],
      "metadata": {
        "colab": {
          "base_uri": "https://localhost:8080/"
        },
        "id": "ceWJpcIgluu7",
        "outputId": "94aa3389-ec0c-4f6e-8fad-bcb3bcacf087"
      },
      "execution_count": 24,
      "outputs": [
        {
          "output_type": "execute_result",
          "data": {
            "text/plain": [
              "tensor([[[0.8224, 0.0033, 0.3980, 0.4494],\n",
              "         [0.7140, 0.4645, 0.3907, 0.9580],\n",
              "         [0.2661, 0.6172, 0.8202, 0.2697]],\n",
              "\n",
              "        [[0.9109, 0.8416, 0.2678, 0.4606],\n",
              "         [0.4440, 0.3801, 0.1722, 0.0331],\n",
              "         [0.9729, 0.3197, 0.8083, 0.9337]]])"
            ]
          },
          "metadata": {},
          "execution_count": 24
        }
      ]
    },
    {
      "cell_type": "code",
      "source": [
        "# permute\n",
        "print(b.permute(2, 0, 1).shape)\n",
        "b.permute(2, 0, 1)"
      ],
      "metadata": {
        "colab": {
          "base_uri": "https://localhost:8080/"
        },
        "id": "RzYs0bvfl5m6",
        "outputId": "fb9758f6-dcc2-444d-d8ac-974d66dacfd0"
      },
      "execution_count": 28,
      "outputs": [
        {
          "output_type": "stream",
          "name": "stdout",
          "text": [
            "torch.Size([4, 2, 3])\n"
          ]
        },
        {
          "output_type": "execute_result",
          "data": {
            "text/plain": [
              "tensor([[[0.8224, 0.7140, 0.2661],\n",
              "         [0.9109, 0.4440, 0.9729]],\n",
              "\n",
              "        [[0.0033, 0.4645, 0.6172],\n",
              "         [0.8416, 0.3801, 0.3197]],\n",
              "\n",
              "        [[0.3980, 0.3907, 0.8202],\n",
              "         [0.2678, 0.1722, 0.8083]],\n",
              "\n",
              "        [[0.4494, 0.9580, 0.2697],\n",
              "         [0.4606, 0.0331, 0.9337]]])"
            ]
          },
          "metadata": {},
          "execution_count": 28
        }
      ]
    },
    {
      "cell_type": "code",
      "source": [
        "# unsqueeze -> You can add a dimension at any place you want\n",
        "c = torch.rand(256, 256, 3)\n",
        "print(c.unsqueeze(0).shape)\n",
        "print(c.unsqueeze(1).shape)"
      ],
      "metadata": {
        "colab": {
          "base_uri": "https://localhost:8080/"
        },
        "id": "gAX_Q_ful-Ao",
        "outputId": "d4dbb1ed-8d21-4fe2-f1c1-2637c5354887"
      },
      "execution_count": 31,
      "outputs": [
        {
          "output_type": "stream",
          "name": "stdout",
          "text": [
            "torch.Size([1, 256, 256, 3])\n",
            "torch.Size([256, 1, 256, 3])\n"
          ]
        }
      ]
    },
    {
      "cell_type": "code",
      "source": [
        "# squeeze\n",
        "d = torch.rand(1, 256, 256, 3)\n",
        "print(d.shape)\n",
        "print(d.squeeze(0).shape)"
      ],
      "metadata": {
        "colab": {
          "base_uri": "https://localhost:8080/"
        },
        "id": "ByPr8MfcmVFC",
        "outputId": "82231255-9e4a-4735-829f-bb95f4a92ad5"
      },
      "execution_count": 32,
      "outputs": [
        {
          "output_type": "stream",
          "name": "stdout",
          "text": [
            "torch.Size([1, 256, 256, 3])\n",
            "torch.Size([256, 256, 3])\n"
          ]
        }
      ]
    },
    {
      "cell_type": "markdown",
      "source": [
        "### NumPy and PyTorch"
      ],
      "metadata": {
        "id": "eguitICFm-Ho"
      }
    },
    {
      "cell_type": "code",
      "source": [
        "import numpy as np"
      ],
      "metadata": {
        "id": "25J3SKSpm0q-"
      },
      "execution_count": 33,
      "outputs": []
    },
    {
      "cell_type": "code",
      "source": [
        "a = torch.tensor([1, 2, 3])\n",
        "a"
      ],
      "metadata": {
        "colab": {
          "base_uri": "https://localhost:8080/"
        },
        "id": "FuN-2GgNnFCN",
        "outputId": "bb8cbb79-355b-4088-f38a-faef504734cf"
      },
      "execution_count": 34,
      "outputs": [
        {
          "output_type": "execute_result",
          "data": {
            "text/plain": [
              "tensor([1, 2, 3])"
            ]
          },
          "metadata": {},
          "execution_count": 34
        }
      ]
    },
    {
      "cell_type": "code",
      "source": [
        "b = a.numpy()\n",
        "b"
      ],
      "metadata": {
        "colab": {
          "base_uri": "https://localhost:8080/"
        },
        "id": "w9GlwE5mnLO6",
        "outputId": "73594620-090e-4d97-d1fb-969501b576c1"
      },
      "execution_count": 35,
      "outputs": [
        {
          "output_type": "execute_result",
          "data": {
            "text/plain": [
              "array([1, 2, 3])"
            ]
          },
          "metadata": {},
          "execution_count": 35
        }
      ]
    },
    {
      "cell_type": "code",
      "source": [
        "type(b)"
      ],
      "metadata": {
        "colab": {
          "base_uri": "https://localhost:8080/"
        },
        "id": "H7TxYYVgnOqb",
        "outputId": "ee854963-0a0a-4a1e-933e-33f751bcdcef"
      },
      "execution_count": 36,
      "outputs": [
        {
          "output_type": "execute_result",
          "data": {
            "text/plain": [
              "numpy.ndarray"
            ]
          },
          "metadata": {},
          "execution_count": 36
        }
      ]
    },
    {
      "cell_type": "code",
      "source": [
        "c = np.array([1, 2, 3])\n",
        "c"
      ],
      "metadata": {
        "colab": {
          "base_uri": "https://localhost:8080/"
        },
        "id": "4aw10G1nnP3g",
        "outputId": "c49389a0-244a-4476-a008-39211c2b89a3"
      },
      "execution_count": 37,
      "outputs": [
        {
          "output_type": "execute_result",
          "data": {
            "text/plain": [
              "array([1, 2, 3])"
            ]
          },
          "metadata": {},
          "execution_count": 37
        }
      ]
    },
    {
      "cell_type": "code",
      "source": [
        "# Converting a numpy array to pytorch tensor\n",
        "torch.from_numpy(c)"
      ],
      "metadata": {
        "colab": {
          "base_uri": "https://localhost:8080/"
        },
        "id": "l4iw6MrYnTpv",
        "outputId": "436859f0-8e17-4c40-cd2c-417fffbca276"
      },
      "execution_count": 38,
      "outputs": [
        {
          "output_type": "execute_result",
          "data": {
            "text/plain": [
              "tensor([1, 2, 3])"
            ]
          },
          "metadata": {},
          "execution_count": 38
        }
      ]
    }
  ]
}